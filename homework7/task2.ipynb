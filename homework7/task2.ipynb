{
 "cells": [
  {
   "cell_type": "code",
   "execution_count": 1,
   "id": "51f4264f-a7eb-45f3-8661-259f0b2b6f5f",
   "metadata": {},
   "outputs": [],
   "source": [
    "class Matrix:\n",
    "\n",
    "    def __init__(self, number_rows, number_columns, name):\n",
    "\n",
    "        self.__number_rows = number_rows\n",
    "        self.__number_columns = number_columns\n",
    "        self.name = name\n",
    "        self.matrix = [[1 + i for i in range(number_columns)] for _ in range(number_rows)]\n",
    "\n",
    "    @property\n",
    "    def number_rows(self):\n",
    "        return self.__number_rows\n",
    "\n",
    "    @number_rows.setter\n",
    "    def number_rows(self, amount):\n",
    "        self.__number_rows = amount\n",
    "\n",
    "    @property\n",
    "    def number_columns(self):\n",
    "        return self.__number_columns\n",
    "\n",
    "    @number_columns.setter\n",
    "    def number_columns(self, amount):\n",
    "        self.__number_columns = amount\n",
    "\n",
    "    def __add__(self, other):\n",
    "\n",
    "        if self.number_rows == other.number_rows and self.number_columns == other.number_columns:\n",
    "            self.matrix = [[self.matrix[i][j] + other.matrix[i][j] for j in range(self.number_columns)]\n",
    "                           for i in range(self.number_rows)]\n",
    "\n",
    "            return self.matrix\n",
    "\n",
    "        return \"you can't sum these matrices\"\n",
    "\n",
    "    def __mul__(self, other):\n",
    "\n",
    "        self.matrix = [[self.matrix[i][j] * other for j in range(self.number_columns)] for i in range(self.number_rows)]\n",
    "\n",
    "        return self.matrix\n",
    "        "
   ]
  },
  {
   "cell_type": "code",
   "execution_count": 3,
   "id": "d7d4ab10-1132-4108-9f4e-48bedad05f9c",
   "metadata": {},
   "outputs": [
    {
     "name": "stdout",
     "output_type": "stream",
     "text": [
      "[[1, 2, 3], [1, 2, 3], [1, 2, 3]]\n",
      "[[2, 4, 6], [2, 4, 6], [2, 4, 6]]\n",
      "[[1.0, 2.0, 3.0], [1.0, 2.0, 3.0], [1.0, 2.0, 3.0]]\n"
     ]
    }
   ],
   "source": [
    "matrix_1 = Matrix(3, 3, 'matrix_1')\n",
    "matrix_2 = Matrix(3, 3, 'matrix_2')\n",
    "print(matrix_2.matrix)\n",
    "print(matrix_1 + matrix_2)\n",
    "print(matrix_1 * 0.5)"
   ]
  },
  {
   "cell_type": "code",
   "execution_count": null,
   "id": "e801b029-7d9a-43cb-ac92-c288cf747dea",
   "metadata": {},
   "outputs": [],
   "source": []
  }
 ],
 "metadata": {
  "kernelspec": {
   "display_name": "Python 3 (ipykernel)",
   "language": "python",
   "name": "python3"
  },
  "language_info": {
   "codemirror_mode": {
    "name": "ipython",
    "version": 3
   },
   "file_extension": ".py",
   "mimetype": "text/x-python",
   "name": "python",
   "nbconvert_exporter": "python",
   "pygments_lexer": "ipython3",
   "version": "3.11.7"
  }
 },
 "nbformat": 4,
 "nbformat_minor": 5
}
