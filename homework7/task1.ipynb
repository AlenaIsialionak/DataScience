{
 "cells": [
  {
   "cell_type": "code",
   "execution_count": 1,
   "id": "c9f0da6c-3ff4-4c51-8f2e-54b29476529d",
   "metadata": {},
   "outputs": [],
   "source": [
    "import math"
   ]
  },
  {
   "cell_type": "code",
   "execution_count": 2,
   "id": "9e25c5bc-9262-499b-b3e8-db74c80ee019",
   "metadata": {},
   "outputs": [],
   "source": [
    "class Money:\n",
    "\n",
    "    def __init__(self, ruble, coin, name):\n",
    "\n",
    "        self.__ruble = ruble\n",
    "        self.__coin = coin\n",
    "        self.name = name\n",
    "\n",
    "    @property\n",
    "    def ruble(self) -> int:\n",
    "        return self.__ruble\n",
    "\n",
    "    @ruble.setter\n",
    "    def ruble(self, amount: int):\n",
    "        self.__ruble = amount\n",
    "\n",
    "    @property\n",
    "    def coin(self) -> int:\n",
    "        return self.__coin\n",
    "\n",
    "    @coin.setter\n",
    "    def coin(self, amount: int):\n",
    "        self.__coin = amount\n",
    "\n",
    "    def __add__(self, other):\n",
    "        sum_money = self.ruble + other.ruble + (self.coin + other.coin)/100\n",
    "        self.ruble, self.coin = int(sum_money // 1), math.ceil(sum_money % 1 * 100)\n",
    "        other.coin, other.ruble = 0, 0\n",
    "\n",
    "        return f'{self.ruble},{self.coin} rub'\n",
    "\n",
    "    def __sub__(self, other):\n",
    "\n",
    "        sum_money = self.ruble - other.ruble + (self.coin - other.coin) / 100\n",
    "        self.ruble, self.coin = int(sum_money // 1), math.ceil((sum_money % 1 * 100))\n",
    "\n",
    "        return f'{self.ruble},{self.coin} rub'\n",
    "\n",
    "    def __mul__(self, other: float):\n",
    "\n",
    "        new_amount = math.ceil((self.ruble * 100 + self.coin) * other)\n",
    "        self.ruble, self.coin = int(new_amount // 100), (new_amount % 100)\n",
    "\n",
    "        return f'{self.ruble},{self.coin} rub'\n",
    "\n",
    "    def __truediv__(self, other):\n",
    "\n",
    "        if isinstance(other, Money):\n",
    "\n",
    "            times = round((self.ruble*100 + self.coin) / (other.ruble*100 + other.coin), 2)\n",
    "\n",
    "            return f'{self.name} differs from {other.name} by {times} times'\n",
    "\n",
    "        else:\n",
    "            new_amount = math.ceil((self.ruble * 100 + self.coin) / other)\n",
    "            self.ruble, self.coin = int(new_amount // 100), (new_amount % 100)\n",
    "\n",
    "            return f'{self.ruble},{self.coin} rub'\n",
    "\n",
    "    def __eq__(self, other):\n",
    "\n",
    "        return (self.ruble*100 + self.coin) == (other.ruble*100 + other.coin)\n",
    "\n",
    "    def __ne__(self, other):\n",
    "\n",
    "        return (self.ruble * 100 + self.coin) != (other.ruble * 100 + other.coin)\n",
    "\n",
    "    def __lt__(self, other):\n",
    "\n",
    "        return (self.ruble * 100 + self.coin) < (other.ruble * 100 + other.coin)\n",
    "\n",
    "    def __gt__(self, other):\n",
    "\n",
    "        return (self.ruble * 100 + self.coin) > (other.ruble * 100 + other.coin)\n",
    "\n",
    "    def __le__(self, other):\n",
    "\n",
    "        return (self.ruble * 100 + self.coin) <= (other.ruble * 100 + other.coin)\n",
    "\n",
    "    def __ge__(self, other):\n",
    "\n",
    "        return (self.ruble * 100 + self.coin) >= (other.ruble * 100 + other.coin)\n"
   ]
  },
  {
   "cell_type": "code",
   "execution_count": 4,
   "id": "a65f9304-c896-4180-bfd1-d27ab0aa0bb7",
   "metadata": {},
   "outputs": [
    {
     "name": "stdout",
     "output_type": "stream",
     "text": [
      "29,16 rub\n",
      "True\n",
      "30 10\n",
      "-19,4 rub\n",
      "-23,25 rub\n"
     ]
    }
   ],
   "source": [
    "money_1 = Money(10, 20, \"money_1\")\n",
    "money_2 = Money(10, 30, \"money_2\")\n",
    "money_3 = Money(30, 3, \"money_2\")\n",
    "# print(money_3/1.03)\n",
    "# print(money_1 < money_2)\n",
    "# print(money_2.coin, money_2.ruble)\n",
    "# print(money_1 - money_3)\n",
    "# print(money_1 * 1.2)\n",
    "\n"
   ]
  },
  {
   "cell_type": "code",
   "execution_count": null,
   "id": "4fcd4986-df0b-46f2-9286-4b8b218255d0",
   "metadata": {},
   "outputs": [],
   "source": []
  }
 ],
 "metadata": {
  "kernelspec": {
   "display_name": "Python 3 (ipykernel)",
   "language": "python",
   "name": "python3"
  },
  "language_info": {
   "codemirror_mode": {
    "name": "ipython",
    "version": 3
   },
   "file_extension": ".py",
   "mimetype": "text/x-python",
   "name": "python",
   "nbconvert_exporter": "python",
   "pygments_lexer": "ipython3",
   "version": "3.11.7"
  }
 },
 "nbformat": 4,
 "nbformat_minor": 5
}
