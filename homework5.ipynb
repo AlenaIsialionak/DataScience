{
 "cells": [
  {
   "cell_type": "code",
   "execution_count": 51,
   "id": "68e36a7d-ccd8-443e-b684-cce2a142a8a6",
   "metadata": {},
   "outputs": [
    {
     "name": "stdout",
     "output_type": "stream",
     "text": [
      "['But', 'on', 'the', 'edge', 'of', 'town', 'drills', 'were', 'driven', 'out', 'of', 'his', 'mind', 'by', 'something', 'else', 'As', 'he', 'sat', 'in', 'the', 'usual', 'morning', 'traffic', 'jam', 'he', 'couldnt', 'help', 'noticing', 'that', 'there', 'seemed', 'to', 'be', 'a', 'lot', 'of', 'strangely', 'dressed', 'people', 'about', 'People', 'in', 'cloaks', 'Mr', 'Dursley', 'couldnt', 'bear', 'people', 'who', 'dressed', 'in', 'funny', 'clothes', 'the', 'get', 'ups', 'you', 'saw', 'on', 'young', 'people']\n"
     ]
    }
   ],
   "source": [
    "import re\n",
    "from typing import List \n",
    "def task_1(str1: str) -> List[str]:\n",
    "\n",
    "    return re.findall(\"\\w+\", re.sub(r'’', '', str1))\n",
    "    \n",
    "print(task_1(\"\"\"But on the edge of town, drills were driven out of his mind by something else. \n",
    "As he sat in the usual morning traffic jam, he couldn’t help noticing that there seemed to be a lot of strangely dressed people about. \n",
    "People in cloaks. Mr Dursley couldn’t bear people who dressed in funny clothes – the get-ups you saw on young people! \"\"\"))"
   ]
  },
  {
   "cell_type": "code",
   "execution_count": 42,
   "id": "7858c1bd-5a75-48a6-bfd0-779b058d36e8",
   "metadata": {},
   "outputs": [
    {
     "name": "stdout",
     "output_type": "stream",
     "text": [
      "<class 'int'>\n"
     ]
    }
   ],
   "source": [
    "from math import floor\n",
    "\n",
    "def task_2(time: int) -> int:\n",
    "    lit_time = 0.5\n",
    "    \n",
    "    # return int(lit_time * time)\n",
    "    a = type(floor(0.166))\n",
    "    return a\n",
    "\n",
    "print(task_2(3))\n",
    "    "
   ]
  },
  {
   "cell_type": "code",
   "execution_count": 3,
   "id": "532ed118-0144-4d60-a0ae-5c5ca236883f",
   "metadata": {},
   "outputs": [
    {
     "name": "stdout",
     "output_type": "stream",
     "text": [
      "[5, 4, 3, 2, 1]\n"
     ]
    }
   ],
   "source": [
    "def task_3(n: int) -> list:\n",
    "   \n",
    "    return [i for i in range(n, 0, -1)]\n",
    "\n",
    "print(task_3(5))"
   ]
  },
  {
   "cell_type": "code",
   "execution_count": 14,
   "id": "f7d3e60c-c474-4aaa-b082-9c1dd27e0be3",
   "metadata": {},
   "outputs": [
    {
     "name": "stdout",
     "output_type": "stream",
     "text": [
      "16\n"
     ]
    }
   ],
   "source": [
    "from math import ceil, floor\n",
    "\n",
    "def task_4(year: int) -> int:\n",
    "\n",
    "    if year < 0:\n",
    "        \n",
    "        return floor((-year)/100)\n",
    "\n",
    "    return ceil(year/100)\n",
    "\n",
    "print(task_4(-1601))"
   ]
  },
  {
   "cell_type": "code",
   "execution_count": 5,
   "id": "076302f9-8301-4f99-90c4-5e6043c81de2",
   "metadata": {},
   "outputs": [
    {
     "name": "stdout",
     "output_type": "stream",
     "text": [
      "[3, 2, 1]\n"
     ]
    }
   ],
   "source": [
    "def task_5(num: int) -> list:\n",
    "    result = []\n",
    "    old_str = str(num)\n",
    "    new_str = old_str[::-1]\n",
    "    result = [int(i) for i in new_str]\n",
    "   \n",
    "    return result\n",
    "\n",
    "print(task_5(123))\n",
    "        \n",
    "        \n",
    "        "
   ]
  },
  {
   "cell_type": "code",
   "execution_count": 15,
   "id": "cb76ee63-1019-4d8c-bf18-bdbb3addf101",
   "metadata": {},
   "outputs": [
    {
     "name": "stdout",
     "output_type": "stream",
     "text": [
      "[1]\n",
      "***********\n",
      "[1]\n"
     ]
    }
   ],
   "source": [
    "def task_6(n: int) -> list:\n",
    "    matrix = [[ 0  for i in range(n)] for j in range(n)]\n",
    "    num = 1\n",
    "\n",
    "    for i in range(n):\n",
    "        for j in range(n):\n",
    "            if i % 2 == 0:\n",
    "                matrix[i][j] = num\n",
    "            else:\n",
    "                matrix[i][-j-1] = num\n",
    "            num += 1\n",
    "    \n",
    "    for s in matrix:\n",
    "        print(s)\n",
    "    \n",
    "    print(\"***********\")\n",
    "\n",
    "    num = 1\n",
    "    for i in range(n):\n",
    "        for j in range(n):\n",
    "            if i % 2 == 0:\n",
    "                matrix[j][i] = num\n",
    "            else:\n",
    "                matrix[- j- 1][i] = num\n",
    "            num += 1\n",
    "    \n",
    "    for s in matrix:\n",
    "        print(s)\n",
    "\n",
    "task_6(1)"
   ]
  },
  {
   "cell_type": "code",
   "execution_count": 12,
   "id": "a2b59855-f133-429c-a5db-eb5e5c28e47e",
   "metadata": {},
   "outputs": [
    {
     "name": "stdout",
     "output_type": "stream",
     "text": [
      "[4, 3, 2, 1]\n"
     ]
    }
   ],
   "source": [
    "a = [1, 2, 3, 4]\n",
    "print(a[::-1])"
   ]
  },
  {
   "cell_type": "code",
   "execution_count": 5,
   "id": "28df908f-7a1a-4c68-873d-8ad2397867fe",
   "metadata": {},
   "outputs": [
    {
     "name": "stdout",
     "output_type": "stream",
     "text": [
      "120\n"
     ]
    }
   ],
   "source": [
    "def rec(num: int):\n",
    "    if num < 1 :\n",
    "        return 1\n",
    "    else:\n",
    "        return rec(num-1)*num\n",
    "print(rec(3))\n",
    "    "
   ]
  },
  {
   "cell_type": "code",
   "execution_count": 16,
   "id": "55bcdb87-7d8b-4537-83f4-6992a855ac62",
   "metadata": {},
   "outputs": [
    {
     "name": "stdout",
     "output_type": "stream",
     "text": [
      "6\n"
     ]
    }
   ],
   "source": [
    "from functools import reduce\n",
    "def task(n:tuple) -> int:\n",
    "    prev = [x for x in n if x%2 == 0]\n",
    "    prev1 = filter(lambda x: x%2 == 0, n)\n",
    "    result = reduce(lambda x, y: x+y , prev, 0)\n",
    "    return result\n",
    "print(task((1, 2, 3, 4)))"
   ]
  },
  {
   "cell_type": "code",
   "execution_count": 31,
   "id": "dc1b39b4-4824-4f9f-977f-89d5912b80a7",
   "metadata": {},
   "outputs": [
    {
     "name": "stdout",
     "output_type": "stream",
     "text": [
      "-24\n"
     ]
    }
   ],
   "source": [
    "from functools import reduce\n",
    "\n",
    "def func(list1: list) -> int:\n",
    "    prev = list(map(lambda x: (-x), list1))\n",
    "    prev = list(filter(lambda x: x<0, prev))\n",
    "    \n",
    "    return reduce(lambda x,y: x*y, prev, 1)\n",
    "print(func([-1, 2, 3, 4]))"
   ]
  },
  {
   "cell_type": "code",
   "execution_count": null,
   "id": "b22532a7-b218-46d6-a957-95e5e3a665ca",
   "metadata": {},
   "outputs": [],
   "source": []
  }
 ],
 "metadata": {
  "kernelspec": {
   "display_name": "Python 3 (ipykernel)",
   "language": "python",
   "name": "python3"
  },
  "language_info": {
   "codemirror_mode": {
    "name": "ipython",
    "version": 3
   },
   "file_extension": ".py",
   "mimetype": "text/x-python",
   "name": "python",
   "nbconvert_exporter": "python",
   "pygments_lexer": "ipython3",
   "version": "3.11.7"
  }
 },
 "nbformat": 4,
 "nbformat_minor": 5
}
