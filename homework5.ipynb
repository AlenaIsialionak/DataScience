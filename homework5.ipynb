{
 "cells": [
  {
   "cell_type": "code",
   "execution_count": 1,
   "id": "68e36a7d-ccd8-443e-b684-cce2a142a8a6",
   "metadata": {},
   "outputs": [
    {
     "name": "stdout",
     "output_type": "stream",
     "text": [
      "['Robin', 'Singh']\n"
     ]
    }
   ],
   "source": [
    "def task_1(str1: str) -> list:\n",
    "    \n",
    "    return str1.split(\" \")\n",
    "    \n",
    "print(task_1(\"Robin Singh\"))"
   ]
  },
  {
   "cell_type": "code",
   "execution_count": 2,
   "id": "7858c1bd-5a75-48a6-bfd0-779b058d36e8",
   "metadata": {},
   "outputs": [
    {
     "name": "stdout",
     "output_type": "stream",
     "text": [
      "1\n"
     ]
    }
   ],
   "source": [
    "from math import floor\n",
    "\n",
    "def task_2(time: int) -> int:\n",
    "    lit_time = 0.5\n",
    "    \n",
    "    # return int(lit_time * time)\n",
    "    return floor(lit_time * time)\n",
    "\n",
    "print(task_2(3))\n",
    "    "
   ]
  },
  {
   "cell_type": "code",
   "execution_count": 3,
   "id": "532ed118-0144-4d60-a0ae-5c5ca236883f",
   "metadata": {},
   "outputs": [
    {
     "name": "stdout",
     "output_type": "stream",
     "text": [
      "[5, 4, 3, 2, 1]\n"
     ]
    }
   ],
   "source": [
    "def task_3(n: int) -> list:\n",
    "   \n",
    "    return [i for i in range(n, 0, -1)]\n",
    "\n",
    "print(task_3(5))"
   ]
  },
  {
   "cell_type": "code",
   "execution_count": 4,
   "id": "f7d3e60c-c474-4aaa-b082-9c1dd27e0be3",
   "metadata": {},
   "outputs": [
    {
     "name": "stdout",
     "output_type": "stream",
     "text": [
      "17\n"
     ]
    }
   ],
   "source": [
    "from math import ceil\n",
    "\n",
    "def task_4(year: int) -> int:\n",
    "    \n",
    "    return ceil(year/100)\n",
    "\n",
    "print(task_4(1601))"
   ]
  },
  {
   "cell_type": "code",
   "execution_count": 5,
   "id": "076302f9-8301-4f99-90c4-5e6043c81de2",
   "metadata": {},
   "outputs": [
    {
     "name": "stdout",
     "output_type": "stream",
     "text": [
      "[3, 2, 1]\n"
     ]
    }
   ],
   "source": [
    "def task_5(num: int) -> list:\n",
    "    result = []\n",
    "    old_str = str(num)\n",
    "    new_str = old_str[::-1]\n",
    "    result = [int(i) for i in new_str]\n",
    "   \n",
    "    return result\n",
    "\n",
    "print(task_5(123))\n",
    "        \n",
    "        \n",
    "        "
   ]
  },
  {
   "cell_type": "code",
   "execution_count": 7,
   "id": "cb76ee63-1019-4d8c-bf18-bdbb3addf101",
   "metadata": {},
   "outputs": [
    {
     "name": "stdout",
     "output_type": "stream",
     "text": [
      "[1, 2, 3, 4, 5]\n",
      "[10, 9, 8, 7, 6]\n",
      "[11, 12, 13, 14, 15]\n",
      "[20, 19, 18, 17, 16]\n",
      "[21, 22, 23, 24, 25]\n",
      "***********\n",
      "[1, 10, 11, 20, 21]\n",
      "[2, 9, 12, 19, 22]\n",
      "[3, 8, 13, 18, 23]\n",
      "[4, 7, 14, 17, 24]\n",
      "[5, 6, 15, 16, 25]\n"
     ]
    }
   ],
   "source": [
    "def task_6(n: int) -> list:\n",
    "    matrix = [[ 0  for i in range(n)] for j in range(n)]\n",
    "    num = 1\n",
    "\n",
    "    for i in range(n):\n",
    "        for j in range(n):\n",
    "            if i % 2 == 0:\n",
    "                matrix[i][j] = num\n",
    "            else:\n",
    "                matrix[i][-j-1] = num\n",
    "            num += 1\n",
    "    \n",
    "    for s in matrix:\n",
    "        print(s)\n",
    "    \n",
    "    print(\"***********\")\n",
    "\n",
    "    num = 1\n",
    "    for i in range(n):\n",
    "        for j in range(n):\n",
    "            if i % 2 == 0:\n",
    "                matrix[j][i] = num\n",
    "            else:\n",
    "                matrix[- j- 1][i] = num\n",
    "            num += 1\n",
    "    \n",
    "    for s in matrix:\n",
    "        print(s)\n",
    "\n",
    "task_6(5)"
   ]
  }
 ],
 "metadata": {
  "kernelspec": {
   "display_name": "Python 3 (ipykernel)",
   "language": "python",
   "name": "python3"
  },
  "language_info": {
   "codemirror_mode": {
    "name": "ipython",
    "version": 3
   },
   "file_extension": ".py",
   "mimetype": "text/x-python",
   "name": "python",
   "nbconvert_exporter": "python",
   "pygments_lexer": "ipython3",
   "version": "3.11.7"
  }
 },
 "nbformat": 4,
 "nbformat_minor": 5
}
