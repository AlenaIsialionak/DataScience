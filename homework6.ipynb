{
 "cells": [
  {
   "cell_type": "code",
   "execution_count": 14,
   "id": "11ee26ac-5b09-433f-a2a5-e46c16b48665",
   "metadata": {},
   "outputs": [],
   "source": [
    "from typing import List\n",
    "import math \n",
    "from functools import reduce"
   ]
  },
  {
   "cell_type": "code",
   "execution_count": 16,
   "id": "a4a99989-9c4b-45ed-aee1-a9ea5ec845e2",
   "metadata": {},
   "outputs": [
    {
     "name": "stdout",
     "output_type": "stream",
     "text": [
      "[14, 1]\n"
     ]
    }
   ],
   "source": [
    "def task1(str_int: str) -> list[int]:\n",
    "\n",
    "    \"\"\"\n",
    "    finds the maximum and minimum number in a string.\n",
    "    :param str_int: the string of numbers.\n",
    "    :return: the maximum and minimum numbers.\n",
    "    \"\"\"\n",
    "    list_int = [int(x) for x in str_int.split(\" \")]\n",
    "    \n",
    "    if len(list_int) <= 2:\n",
    "        return list_int\n",
    "\n",
    "    max1, min2 = list_int[0], list_int[1]\n",
    "        \n",
    "    for i in list_int:\n",
    "        if i > max1:\n",
    "            max1 = i\n",
    "        elif i < min2:\n",
    "            min2 = i\n",
    "            \n",
    "    return [max1, min2]\n",
    "    \n",
    "print(task1(\"1 2 3 5 4 10 9 7 5 14 12\"))"
   ]
  },
  {
   "cell_type": "code",
   "execution_count": 50,
   "id": "376b64e4-7f82-468b-94c6-c2c7d9dfe36d",
   "metadata": {},
   "outputs": [
    {
     "name": "stdout",
     "output_type": "stream",
     "text": [
      "False\n"
     ]
    }
   ],
   "source": [
    "def task2(pin: str) -> bool:\n",
    "    \n",
    "    \"\"\"\n",
    "    checks whether the PIN consists of 4 or 6 digits.\n",
    "    :param pin: the PIN for verification.\n",
    "    :return: True or False.\n",
    "    \"\"\"\n",
    "    \n",
    "    if pin.isdigit() and (len(pin) == 4 or len(pin) == 6):\n",
    "        \n",
    "        return True\n",
    "    \n",
    "    return False\n",
    "    \n",
    "print(task2(\"1234ttt56\"))"
   ]
  },
  {
   "cell_type": "code",
   "execution_count": 52,
   "id": "3d6ca1e8-7a34-4ee4-866c-22d1893b27eb",
   "metadata": {},
   "outputs": [
    {
     "name": "stdout",
     "output_type": "stream",
     "text": [
      "[1, 4, 9]\n"
     ]
    }
   ],
   "source": [
    "def task3(list_num: List[int]) -> List[int]:\n",
    "    \n",
    "    \"\"\"\n",
    "    checks if the number is a square number.\n",
    "    :param list_num: the list of numbers for verification.\n",
    "    :return: the filtered list of square numbers.\n",
    "    \"\"\"\n",
    "    \n",
    "    result = filter(lambda x: math.sqrt(x) % 1 == 0, list_num)\n",
    "    \n",
    "    return list(result)\n",
    "    \n",
    "print(task3([1, 4, 9, 11]))"
   ]
  },
  {
   "cell_type": "code",
   "execution_count": 3,
   "id": "00f4479a-aa3a-4adc-90a8-60fdd72aaaa0",
   "metadata": {},
   "outputs": [
    {
     "name": "stdout",
     "output_type": "stream",
     "text": [
      "[1, 2, 3, 9]\n"
     ]
    }
   ],
   "source": [
    "def unique_in_order(sequence: List[int]) -> List[int]:\n",
    "    \n",
    "    \"\"\"\n",
    "    returns the list without duplicate numbers in the original order.\n",
    "    :param sequence: the list of numbers for verification.\n",
    "    :return: the list without duplicate numbers.\n",
    "    \"\"\"\n",
    "    \n",
    "    prev = sequence[0]\n",
    "    result= [prev]\n",
    "    \n",
    "    for i in sequence[1:]:\n",
    "        if prev != i:\n",
    "            result.append(i)\n",
    "        prev = i\n",
    "        \n",
    "    return result\n",
    "print(unique_in_order([1, 1, 1, 2, 3, 9, 9]))"
   ]
  },
  {
   "cell_type": "code",
   "execution_count": 4,
   "id": "fc6546fe-525f-4e1c-9d63-9f552b664e10",
   "metadata": {},
   "outputs": [
    {
     "name": "stdout",
     "output_type": "stream",
     "text": [
      "3\n"
     ]
    }
   ],
   "source": [
    "def task5(str_words: str) -> int:\n",
    "   \n",
    "    \"\"\"\n",
    "    finds the length of the shortest word in the string.\n",
    "    :param str_words: the string of words.\n",
    "    :return: the length of the shortest word.\n",
    "    \"\"\"\n",
    "    \n",
    "    list_words = str_words.split(\" \")\n",
    "    dict_words = {}\n",
    "\n",
    "    for word in list_words:\n",
    "        dict_words[len(word)] = word\n",
    "\n",
    "    return min(dict_words)\n",
    "\n",
    "print(task5(\"apple orange banana owl\"))\n",
    "    "
   ]
  },
  {
   "cell_type": "code",
   "execution_count": 12,
   "id": "8c45bfcc-c429-4982-aa6c-9ed8f256381b",
   "metadata": {},
   "outputs": [
    {
     "name": "stdout",
     "output_type": "stream",
     "text": [
      "5\n"
     ]
    }
   ],
   "source": [
    "def task6(num: int) -> int:\n",
    "\n",
    "    \"\"\"\n",
    "    finds the digital root.\n",
    "    :param num: the number to calculate the digital root.\n",
    "    :return: the digital root.\n",
    "    \"\"\"\n",
    "    \n",
    "    result = reduce(lambda x, y: x + y, [int(i) for i in str(num)], 0)\n",
    "    \n",
    "    if result // 10 == 0:\n",
    "        \n",
    "        return result\n",
    "    else:\n",
    "    \n",
    "        return task6(result)\n",
    "\n",
    "print(task6(1940))"
   ]
  },
  {
   "cell_type": "code",
   "execution_count": 26,
   "id": "a82ac607-d544-4043-976d-b849eca74975",
   "metadata": {},
   "outputs": [
    {
     "name": "stdout",
     "output_type": "stream",
     "text": [
      "\n"
     ]
    }
   ],
   "source": [
    "def task7(word: str) -> str:\n",
    "    \n",
    "    \"\"\"\n",
    "    returns the middle character in the word (or two if the word length is even).\n",
    "    :param word: the word.\n",
    "    :return: the middle character (or characters).\n",
    "    \"\"\"\n",
    "    \n",
    "    length = len(word)\n",
    "\n",
    "    return word[length//2] if length % 2 != 0 else word[length//2 - 1 : length//2 + 1]\n",
    "\n",
    "\n",
    "print(task7(\"\"))"
   ]
  },
  {
   "cell_type": "code",
   "execution_count": 12,
   "id": "59bec5d1-3942-44c7-9e02-b7e92beda481",
   "metadata": {},
   "outputs": [
    {
     "name": "stdout",
     "output_type": "stream",
     "text": [
      "True\n"
     ]
    }
   ],
   "source": [
    "def task8(num: int) -> bool:\n",
    "    \n",
    "    \"\"\"\n",
    "    checks if this number is prime.\n",
    "    :param word: the number for verification.\n",
    "    :return: True or False.\n",
    "    \"\"\"\n",
    "    if num <= 1:\n",
    "        \n",
    "        return False\n",
    "\n",
    "    for i in range(2, int(math.sqrt(num)) + 1):\n",
    "        if num % i == 0:\n",
    "\n",
    "            return False\n",
    "\n",
    "    return True\n",
    "\n",
    "print(task8(5))\n"
   ]
  },
  {
   "cell_type": "code",
   "execution_count": 16,
   "id": "67ed9e04-0c85-4a41-b182-55378323f869",
   "metadata": {},
   "outputs": [
    {
     "name": "stdout",
     "output_type": "stream",
     "text": [
      "even\n"
     ]
    }
   ],
   "source": [
    "def task9(list_int: List[int]) -> str:\n",
    "\n",
    "    \"\"\"\n",
    "    checks whether the sum of the numbers in the list is even or odd.\n",
    "    :param list_int: the list of integers.\n",
    "    :return: \"even\" or \"odd\".\n",
    "    \"\"\"\n",
    "    \n",
    "    return \"even\" if reduce(lambda x, y: x + y, list_int, 0) % 2 == 0 else \"odd\"\n",
    "\n",
    "print(task9([1, 2, 3]))\n",
    "    "
   ]
  },
  {
   "cell_type": "code",
   "execution_count": 15,
   "id": "ec035308-84ed-49b0-a758-86931d58437f",
   "metadata": {},
   "outputs": [
    {
     "name": "stdout",
     "output_type": "stream",
     "text": [
      "17\n"
     ]
    }
   ],
   "source": [
    "def matrix_hourglass(size_array: int) -> List[List[int]]:\n",
    "\n",
    "    \"\"\"\n",
    "    creates an hourglass-shaped matrix.\n",
    "    :param size_array: the integer defining the size of the matrix.\n",
    "    :return: the created matrix.\n",
    "    \"\"\"\n",
    "\n",
    "    matrix = [[0] * size_array for _ in range(size_array)]\n",
    "\n",
    "    for i in range(size_array):\n",
    "        for j in range(size_array//2 + 1):\n",
    "            if i < size_array//2 + 1:\n",
    "                if j >= i:\n",
    "                    matrix[i][j] = 1\n",
    "                    matrix[i][-j-1] = 1\n",
    "            else:\n",
    "                if j >= size_array - i - 1:\n",
    "                    matrix[i][j] = 1\n",
    "                    matrix[i][-j - 1] = 1\n",
    "\n",
    "    return matrix\n",
    "\n",
    "\n",
    "def calculate(matrix: List[List[int]]) -> int:\n",
    "    \n",
    "    \"\"\"\n",
    "    calculates the sum of the elements that form the hourglass in the matrix.\n",
    "    :param matrix: the hourglass-shaped matrix.\n",
    "    :return: the sum of the element.\n",
    "    \"\"\"\n",
    "    amount = 0\n",
    "\n",
    "    for list_of_matrix in matrix:\n",
    "        amount = reduce(lambda x, y: x+y, list(filter(lambda x: x != 0, list_of_matrix)), amount)\n",
    "\n",
    "    return amount\n",
    "\n",
    "print(calculate(matrix_hourglass(5)))\n"
   ]
  },
  {
   "cell_type": "code",
   "execution_count": 21,
   "id": "ab750a6f-b9a7-4468-83f3-f28be53e6aaf",
   "metadata": {},
   "outputs": [
    {
     "name": "stdout",
     "output_type": "stream",
     "text": [
      "[1, 4, 9]\n"
     ]
    }
   ],
   "source": [
    "def task3(list_num: List[int]) -> List[int]:\n",
    "    \n",
    "    \"\"\"\n",
    "    checks if the number is a square number.\n",
    "    :param list_num: the list of numbers for verification.\n",
    "    :return: the filtered list of square numbers.\n",
    "    \"\"\"\n",
    "    \n",
    "    result = filter(lambda x: x**0.5 % 1 == 0, list_num)\n",
    "    \n",
    "    return list(result)\n",
    "    \n",
    "print(task3([1, 4, 9, 11]))"
   ]
  },
  {
   "cell_type": "code",
   "execution_count": 28,
   "id": "ba594ebd-039a-4547-87dd-c680a4531c41",
   "metadata": {},
   "outputs": [
    {
     "name": "stdout",
     "output_type": "stream",
     "text": [
      "[1, 4, 9]\n"
     ]
    }
   ],
   "source": [
    "def func(arr_of_nums):\n",
    "    return list(filter(lambda num: math.sqrt(num).is_integer(), arr_of_nums))\n",
    "\n",
    "print(func([1, 2, 4, 9]))"
   ]
  },
  {
   "cell_type": "code",
   "execution_count": null,
   "id": "4615a22e-6fb2-4d7a-a1f2-252f8a244fe7",
   "metadata": {},
   "outputs": [],
   "source": []
  },
  {
   "cell_type": "code",
   "execution_count": null,
   "id": "2e76331f-7bf7-49bc-a314-e31d444ed319",
   "metadata": {},
   "outputs": [],
   "source": []
  }
 ],
 "metadata": {
  "kernelspec": {
   "display_name": "Python 3 (ipykernel)",
   "language": "python",
   "name": "python3"
  },
  "language_info": {
   "codemirror_mode": {
    "name": "ipython",
    "version": 3
   },
   "file_extension": ".py",
   "mimetype": "text/x-python",
   "name": "python",
   "nbconvert_exporter": "python",
   "pygments_lexer": "ipython3",
   "version": "3.11.7"
  }
 },
 "nbformat": 4,
 "nbformat_minor": 5
}
