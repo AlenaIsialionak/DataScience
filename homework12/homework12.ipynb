{
 "cells": [
  {
   "cell_type": "code",
   "execution_count": 56,
   "id": "4e457746-bd5f-4bff-b6c0-072974e5427d",
   "metadata": {},
   "outputs": [
    {
     "name": "stdout",
     "output_type": "stream",
     "text": [
      "Defaulting to user installation because normal site-packages is not writeableNote: you may need to restart the kernel to use updated packages.\n",
      "\n",
      "Requirement already satisfied: scipy in c:\\programdata\\anaconda3\\lib\\site-packages (1.11.4)\n",
      "Requirement already satisfied: numpy<1.28.0,>=1.21.6 in c:\\users\\алёна\\appdata\\roaming\\python\\python311\\site-packages (from scipy) (1.26.2)\n"
     ]
    }
   ],
   "source": [
    "%pip install scipy\n",
    "import math\n",
    "import scipy\n",
    "from typing import List\n",
    "import numpy as np"
   ]
  },
  {
   "cell_type": "markdown",
   "id": "aa5de9d6-0e2a-4977-a648-90524a97c7d2",
   "metadata": {},
   "source": [
    "### combinatorics"
   ]
  },
  {
   "cell_type": "markdown",
   "id": "ec291cf0-4272-48da-8448-c7a9838826c0",
   "metadata": {},
   "source": [
    "###### Task1\n",
    "В группе 30 студентов. Необходимо выбрать старосту, заместителя старосты и \r\n",
    "профорга. Сколько существует способов это сделать? "
   ]
  },
  {
   "cell_type": "code",
   "execution_count": 28,
   "id": "69327c29-5199-4490-9f55-a0a331143c0b",
   "metadata": {},
   "outputs": [
    {
     "name": "stdout",
     "output_type": "stream",
     "text": [
      "24360.0\n"
     ]
    }
   ],
   "source": [
    "answer1 = math.factorial(30)/(math.factorial(30-3)) #permutations without repetition\n",
    "answer2 = scipy.special.perm(30, 3, exact=False)\n",
    "assert answer1 == answer2\n",
    "print(answer2)"
   ]
  },
  {
   "cell_type": "markdown",
   "id": "a62b0ce4-7eb7-4537-9aca-3891f6ca3814",
   "metadata": {},
   "source": [
    "###### Task2\n",
    "Два  почтальона  должны  разнести  10  писем  по  10  адресам.  Сколькими \n",
    "способами они могут распределить работу?  "
   ]
  },
  {
   "cell_type": "code",
   "execution_count": 6,
   "id": "d904aa4c-25cb-4501-8c8b-628f55b966e8",
   "metadata": {},
   "outputs": [
    {
     "data": {
      "text/plain": [
       "1024"
      ]
     },
     "execution_count": 6,
     "metadata": {},
     "output_type": "execute_result"
    }
   ],
   "source": [
    "# one letter - two ways\n",
    "2**10 # each letters - C1*C2*C3..."
   ]
  },
  {
   "cell_type": "markdown",
   "id": "ddd965af-7bc2-42cb-b9cb-247bb87ff23b",
   "metadata": {},
   "source": [
    "###### Task3\n",
    "В ящике 100 деталей, из них 30 – деталей 1-го сорта, 50 – 2-го, остальные – 3-\n",
    "го. Сколько существует способов извлечения из ящика одной детали 1-го или 2-го сорта? "
   ]
  },
  {
   "cell_type": "code",
   "execution_count": 9,
   "id": "b4b8f712-e21d-4c5e-8888-aea1d6a02076",
   "metadata": {},
   "outputs": [
    {
     "data": {
      "text/plain": [
       "80"
      ]
     },
     "execution_count": 9,
     "metadata": {},
     "output_type": "execute_result"
    }
   ],
   "source": [
    "math.factorial(30)/(math.factorial(30-1)*math.factorial(1)) + math.factorial(50)/(math.factorial(50-1)*math.factorial(1)) # C(1_30) + C(1_50) combinations\n",
    "30+50"
   ]
  },
  {
   "cell_type": "markdown",
   "id": "5aeef3d4-d60f-4423-81fe-b60206ac8d1a",
   "metadata": {},
   "source": [
    "###### Task4\n",
    "Порядок выступления 7 участников конкурса определяется жребием. Сколько \n",
    "различных вариантов жеребьевки при этом возможно? "
   ]
  },
  {
   "cell_type": "code",
   "execution_count": 11,
   "id": "6093849c-b231-4a8d-b1a7-77cdd59d1227",
   "metadata": {},
   "outputs": [
    {
     "data": {
      "text/plain": [
       "5040"
      ]
     },
     "execution_count": 11,
     "metadata": {},
     "output_type": "execute_result"
    }
   ],
   "source": [
    "math.factorial(7) # placement "
   ]
  },
  {
   "cell_type": "markdown",
   "id": "46a6c679-deb1-4ccd-bd47-70305957f987",
   "metadata": {},
   "source": [
    "###### Task5\n",
    "В конкурсе по 5 номинациям участвуют 10 кинофильмов. Сколько существует \n",
    "вариантов  распределения  призов,  если  по  всем  номинациям  установлены  различные \n",
    "премии? "
   ]
  },
  {
   "cell_type": "code",
   "execution_count": 35,
   "id": "c652122a-ab51-4939-b480-790367bbc4eb",
   "metadata": {},
   "outputs": [
    {
     "data": {
      "text/plain": [
       "100000"
      ]
     },
     "execution_count": 35,
     "metadata": {},
     "output_type": "execute_result"
    }
   ],
   "source": [
    "10**5 #permutations with repetition"
   ]
  },
  {
   "cell_type": "markdown",
   "id": "598c7d82-344a-4250-81bb-1daed958d2b8",
   "metadata": {},
   "source": [
    "###### Task6\n",
    " В шахматном турнире   участвуют 16 человек. Сколько партий должно быть \n",
    "сыграно  в  турнире,  если  между  любыми  двумя  участниками  должна  быть  сыграна  одна \n",
    "партия?"
   ]
  },
  {
   "cell_type": "code",
   "execution_count": 38,
   "id": "1e3c07fa-bcb0-4a0a-858f-5081e82dd99e",
   "metadata": {},
   "outputs": [
    {
     "name": "stdout",
     "output_type": "stream",
     "text": [
      "120.0\n"
     ]
    }
   ],
   "source": [
    "answer1 = math.factorial(16)/(math.factorial(16-2)*(math.factorial(2))) #combinations without repetitions\n",
    "answer2 = scipy.special.comb(16, 2, repetition=False)\n",
    "assert answer1 == answer2\n",
    "print(answer2)"
   ]
  },
  {
   "cell_type": "markdown",
   "id": "589872a6-ef2d-4cde-b118-aa3a76d55100",
   "metadata": {},
   "source": [
    "###### Task7\n",
    "В условиях задачи 6 определить, сколько существует вариантов распределения \r\n",
    "призов, если по всем номинациям установлены одинаковые призы? "
   ]
  },
  {
   "cell_type": "code",
   "execution_count": 40,
   "id": "a84f9257-5ab8-4a12-a4fd-8e1e5029bd72",
   "metadata": {},
   "outputs": [
    {
     "name": "stdout",
     "output_type": "stream",
     "text": [
      "2002.0\n"
     ]
    }
   ],
   "source": [
    "answer1 = math.factorial(10+5 - 1)/(math.factorial(5)*(math.factorial(10-1))) #combinations with repetitions\n",
    "answer2 = scipy.special.comb(10, 5, repetition=True)\n",
    "assert answer1 == answer2\n",
    "print(answer2)"
   ]
  },
  {
   "cell_type": "markdown",
   "id": "164e9933-7144-4c44-8cec-8d6ccafed7d6",
   "metadata": {},
   "source": [
    "###### Task8\n",
    "Садовник  должен  в  течении  трех  дней  посадить  6  деревьев.  Сколькими \n",
    "способами  он  может  распределить  по  дням  работу,  если  будет  сажать  не  менее  одного \n",
    "дерева в день? "
   ]
  },
  {
   "cell_type": "code",
   "execution_count": 19,
   "id": "d0759724-8d66-460d-bc18-24eb1463c0bc",
   "metadata": {},
   "outputs": [
    {
     "data": {
      "text/plain": [
       "10.0"
      ]
     },
     "execution_count": 19,
     "metadata": {},
     "output_type": "execute_result"
    }
   ],
   "source": [
    "math.factorial(5)/(math.factorial(5-2)*math.factorial(2)) "
   ]
  },
  {
   "cell_type": "markdown",
   "id": "75504c95-1950-4e78-8173-90a82d29bf5c",
   "metadata": {},
   "source": [
    "###### Task9\n",
    "Сколько существует четырехзначных чисел (возможно, начинающихся с нуля), \n",
    "сумма цифр которых равна 5? "
   ]
  },
  {
   "cell_type": "code",
   "execution_count": null,
   "id": "dcaf1e96-f540-4152-87b3-58c1918805bf",
   "metadata": {},
   "outputs": [],
   "source": []
  },
  {
   "cell_type": "markdown",
   "id": "70f62438-0a37-4cbc-9ec8-5bf96786e522",
   "metadata": {},
   "source": [
    "###### Task10\n",
    "Сколькими способами можно разбить группу из 25 студентов на три подгруппы \r\n",
    "А, В и С по 6, 9 и 10 человек соответственно? "
   ]
  },
  {
   "cell_type": "code",
   "execution_count": 43,
   "id": "44b3dc66-e869-47ae-89ef-d41be7f7b028",
   "metadata": {},
   "outputs": [
    {
     "data": {
      "text/plain": [
       "16360143800.0"
      ]
     },
     "execution_count": 43,
     "metadata": {},
     "output_type": "execute_result"
    }
   ],
   "source": [
    "math.factorial(25)/(math.factorial(6)*math.factorial(9)*math.factorial(10))"
   ]
  },
  {
   "cell_type": "markdown",
   "id": "43e74f53-f9ea-4504-9bfc-e84549072f61",
   "metadata": {},
   "source": [
    "###### Task10\n",
    "Сколько существует семизначных чисел, состоящих из цифр 4, 5 и 6, в которых \r\n",
    "цифра 4 повторяется 3 раза, а цифры 5 и 6 – по 2 раза"
   ]
  },
  {
   "cell_type": "code",
   "execution_count": 45,
   "id": "2c014443-3461-40df-b646-072fdf98dae0",
   "metadata": {},
   "outputs": [
    {
     "data": {
      "text/plain": [
       "210.0"
      ]
     },
     "execution_count": 45,
     "metadata": {},
     "output_type": "execute_result"
    }
   ],
   "source": [
    "math.factorial(7)/(math.factorial(3)*math.factorial(2)*math.factorial(2))"
   ]
  },
  {
   "cell_type": "markdown",
   "id": "29e52a90-46ff-4579-b621-a2e4140e637b",
   "metadata": {},
   "source": [
    "### The classical probabilistic model. Geometric probability"
   ]
  },
  {
   "cell_type": "markdown",
   "id": "6da0076d-e9e0-4a8a-a3c7-225d063fc1d4",
   "metadata": {},
   "source": [
    "###### Task1\n",
    "В  ящике  5  апельсинов  и  4  яблока.  Наудачу  выбираются  3  фрукта.  Какова \r\n",
    "вероятность, что все три фрукта – апельсины? "
   ]
  },
  {
   "cell_type": "markdown",
   "id": "18a00e08-f316-4eb0-bbd3-561fe99ad90e",
   "metadata": {},
   "source": [
    "answer = scipy.special.comb(5, 3, repetition=False)/scipy.special.comb(9, 3, repetition=False)\n",
    "answer"
   ]
  },
  {
   "cell_type": "markdown",
   "id": "9eb157f8-6005-45f7-88db-7e92028069e7",
   "metadata": {},
   "source": [
    "###### Task2\n",
    "Преподаватель предлагает каждому из трех студентов задумать любое число от \n",
    "1  до  10.  Считая,  что  выбор  каждым  из  студентов  любого  числа  из  заданных \n",
    "равновозможен, найти вероятность того, что у кого-то из них задуманные числа совпадут. "
   ]
  },
  {
   "cell_type": "code",
   "execution_count": 65,
   "id": "3056d791-eb23-47b0-84c8-f561ab2b11ce",
   "metadata": {},
   "outputs": [
    {
     "data": {
      "text/plain": [
       "0.28"
      ]
     },
     "execution_count": 65,
     "metadata": {},
     "output_type": "execute_result"
    }
   ],
   "source": [
    "1 - scipy.special.perm(10, 3, exact=False)/10**3"
   ]
  },
  {
   "cell_type": "markdown",
   "id": "bb44cb0e-edbd-4d9a-a259-f38fb61ecca5",
   "metadata": {},
   "source": [
    "###### Task3\n",
    "Найти  вероятность  того,  что  в  8-значном  числе  ровно  4  цифры  совпадают,  а \r\n",
    "остальные различны. "
   ]
  },
  {
   "cell_type": "code",
   "execution_count": 76,
   "id": "958ef7d3-11c6-4b5a-9ea4-dcc1a38a62d7",
   "metadata": {},
   "outputs": [
    {
     "data": {
      "text/plain": [
       "0.021168"
      ]
     },
     "execution_count": 76,
     "metadata": {},
     "output_type": "execute_result"
    }
   ],
   "source": [
    "10*scipy.special.comb(8, 4, repetition=False)*scipy.special.perm(9, 4, exact=False)/10**8"
   ]
  },
  {
   "cell_type": "markdown",
   "id": "1e0be877-2a5e-4da2-a051-0952b98778e3",
   "metadata": {},
   "source": [
    "###### Task4\n",
    "Шесть клиентов случайным образом обращаются в 5 фирм. Найти вероятность \n",
    "того, что хотя бы в одну фирму никто не обратится. "
   ]
  },
  {
   "cell_type": "code",
   "execution_count": 87,
   "id": "6d6ef05f-9a4e-4a7d-a956-326935488ae5",
   "metadata": {},
   "outputs": [
    {
     "data": {
      "text/plain": [
       "1.0"
      ]
     },
     "execution_count": 87,
     "metadata": {},
     "output_type": "execute_result"
    }
   ],
   "source": [
    "permutations = 6**5 #permutations with repetition\n",
    "comb  = scipy.special.comb(6, 6, repetition=False)"
   ]
  },
  {
   "cell_type": "markdown",
   "id": "4df7d651-0a59-46d1-bb11-93d7c58afc8f",
   "metadata": {},
   "source": [
    "### probability theory"
   ]
  },
  {
   "cell_type": "markdown",
   "id": "71962287-122c-401a-b246-88710fe224b8",
   "metadata": {},
   "source": [
    "###### Task1\n",
    "В ящике 10 красных и 5 синих пуговиц. Вынимаются наудачу две пуговицы. \r\n",
    "Какова вероятность, что пуговицы будут одноцветными?  "
   ]
  },
  {
   "cell_type": "code",
   "execution_count": 79,
   "id": "b863d069-35b7-4510-8515-278fa36364bf",
   "metadata": {},
   "outputs": [
    {
     "data": {
      "text/plain": [
       "0.5238095238095238"
      ]
     },
     "execution_count": 79,
     "metadata": {},
     "output_type": "execute_result"
    }
   ],
   "source": [
    "((10/15)*(9/14)) + ((5/15)*(4/14)) # (and)or(and)"
   ]
  },
  {
   "cell_type": "markdown",
   "id": "df295dd2-f70d-458f-9683-57d038ee860c",
   "metadata": {},
   "source": [
    "###### Task2\n",
    "Среди сотрудников фирмы 28% знают английский язык, 30%  – немецкий, 42% – \r\n",
    "французский; английский и немецкий – 8%, английский и французский – 10%, немецкий и \r\n",
    "французский – 5%, все три языка – 3%. Найти вероятность того, что случайно выбранный \r\n",
    "сотрудник фирм\n",
    "ы: а) знает английский или немецки\n",
    "й; б) знает английский, немецкий или \r\n",
    "французск\n",
    "ий; в) не знает ни один из перечисленных языков. "
   ]
  },
  {
   "cell_type": "code",
   "execution_count": null,
   "id": "cbdb5412-b609-4cc5-a595-6694a1f12ff9",
   "metadata": {},
   "outputs": [],
   "source": []
  },
  {
   "cell_type": "markdown",
   "id": "92261af6-f966-4352-bdc7-7523206b0aa6",
   "metadata": {},
   "source": [
    "###### Task2\n",
    "В семье – двое детей. Какова вероятность, что старший ребенок – мальчик, если \r\n",
    "известно, что в семье есть дети обоего пола? "
   ]
  },
  {
   "cell_type": "code",
   "execution_count": 77,
   "id": "701e7a00-36e9-4e1f-8755-4fdae2d81921",
   "metadata": {},
   "outputs": [
    {
     "data": {
      "text/plain": [
       "0.5"
      ]
     },
     "execution_count": 77,
     "metadata": {},
     "output_type": "execute_result"
    }
   ],
   "source": [
    "1/2"
   ]
  },
  {
   "cell_type": "code",
   "execution_count": null,
   "id": "44839885-a528-4a8b-ac19-08fed7592171",
   "metadata": {},
   "outputs": [],
   "source": []
  }
 ],
 "metadata": {
  "kernelspec": {
   "display_name": "Python 3 (ipykernel)",
   "language": "python",
   "name": "python3"
  },
  "language_info": {
   "codemirror_mode": {
    "name": "ipython",
    "version": 3
   },
   "file_extension": ".py",
   "mimetype": "text/x-python",
   "name": "python",
   "nbconvert_exporter": "python",
   "pygments_lexer": "ipython3",
   "version": "3.11.7"
  }
 },
 "nbformat": 4,
 "nbformat_minor": 5
}
